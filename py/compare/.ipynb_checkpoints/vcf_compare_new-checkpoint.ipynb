{
 "cells": [
  {
   "cell_type": "code",
   "execution_count": 175,
   "metadata": {},
   "outputs": [],
   "source": [
    "from collections import OrderedDict\n",
    "from collections import Counter\n",
    "\n",
    "# Essential VCF headers\n",
    "VCF_HEADER = ['CHROM', 'POS', 'ID', 'REF', 'ALT', 'QUAL', 'FILTER', 'INFO', 'FORMAT']\n",
    "\n",
    "def lines(filename):\n",
    "    with open(filename) as fh:\n",
    "        for line in fh:\n",
    "            if line.startswith('#'):\n",
    "                continue\n",
    "            else:\n",
    "                yield parse(line)\n",
    "\n",
    "# parse all the VCF file data into a ordered dictiorany including each INFO and FORMAT in key:pair\n",
    "def parse(line):\n",
    "    result = OrderedDict()\n",
    "    fields = line.rstrip().split('\\t')\n",
    "\n",
    "    for i, col in enumerate(VCF_HEADER[:7]):\n",
    "        result[col] = _get_value(fields[i])\n",
    "\n",
    "    infos = fields[7].split(';')\n",
    "\n",
    "    for i, info in enumerate(infos, 1):\n",
    "        try:\n",
    "            key, value = info.split('=')\n",
    "        except ValueError:\n",
    "            key = 'INFO{}'.format(i)\n",
    "            value = info\n",
    "        result[key] = get_value(value)\n",
    "        \n",
    "    formats_key = fields[8].split(':')\n",
    "    formats_value = fields[9].split(':')\n",
    "    \n",
    "    for i in range(len(formats_key)):\n",
    "        result[formats_key[i]] = get_value(formats_value[i])\n",
    "\n",
    "    return result\n",
    "\n",
    "# if value is not present return NULL\n",
    "def get_value(value):\n",
    "    if not value or value in ['', '.', 'NA']:\n",
    "        return None\n",
    "    if ',' in value:\n",
    "        return value.split(',')\n",
    "    return value\n",
    "\n",
    "# for getting\n",
    "def without_keys(d, keys):\n",
    "    return {x: d[x] for x in d if x not in keys}"
   ]
  },
  {
   "cell_type": "code",
   "execution_count": 184,
   "metadata": {
    "scrolled": false
   },
   "outputs": [],
   "source": [
    "# Combine the VCF data\n",
    "new_vcf_list = []\n",
    "for fb in lines('freebayes_raw.vcf'):\n",
    "    for vs in lines('varscan_raw.vcf'):\n",
    "        \n",
    "        if fb['CHROM'] == vs['CHROM'] and fb['POS'] == vs['POS']:\n",
    "            \n",
    "            common_header_temp = set(fb.keys()).intersection(vs.keys())\n",
    "            common_header = common_header_temp.symmetric_difference(VCF_HEADER[:7])\n",
    "            # replace common headers\n",
    "            for header in common_header:\n",
    "                fb[\"freebayes_\" + header] = fb.pop(header)\n",
    "                vs[\"varscan_\" + header] = vs.pop(header)\n",
    "            # keep only diffrent filds from other vcf\n",
    "            new_vs = without_keys(vs, VCF_HEADER[:7])\n",
    "            \n",
    "            # merge\n",
    "            new_vcf = OrderedDict(list(fb.items()) + list(new_vs.items()) + list({'TOOL': 'both'}.items()))\n",
    "            #print(new_vcf)\n",
    "            new_vcf_list.append(new_vcf)\n",
    "            break\n",
    "\n"
   ]
  },
  {
   "cell_type": "code",
   "execution_count": 186,
   "metadata": {},
   "outputs": [],
   "source": [
    "import csv\n",
    "keys = new_vcf_list[0].keys()\n",
    "with open('merged_VCF.csv', 'w') as outfile:\n",
    "    fp = csv.DictWriter(outfile, keys)\n",
    "    fp.writeheader()\n",
    "    fp.writerows(new_vcf_list)"
   ]
  },
  {
   "cell_type": "code",
   "execution_count": null,
   "metadata": {},
   "outputs": [],
   "source": []
  }
 ],
 "metadata": {
  "kernelspec": {
   "display_name": "Python 3",
   "language": "python",
   "name": "python3"
  },
  "language_info": {
   "codemirror_mode": {
    "name": "ipython",
    "version": 3
   },
   "file_extension": ".py",
   "mimetype": "text/x-python",
   "name": "python",
   "nbconvert_exporter": "python",
   "pygments_lexer": "ipython3",
   "version": "3.7.5"
  }
 },
 "nbformat": 4,
 "nbformat_minor": 4
}
