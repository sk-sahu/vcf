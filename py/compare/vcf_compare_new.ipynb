{
 "cells": [
  {
   "cell_type": "code",
   "execution_count": 1,
   "metadata": {},
   "outputs": [],
   "source": [
    "from collections import OrderedDict\n",
    "from collections import Counter\n",
    "\n",
    "# Essential VCF headers\n",
    "VCF_HEADER = ['CHROM', 'POS', 'ID', 'REF', 'ALT', 'QUAL', 'FILTER', 'INFO', 'FORMAT']\n",
    "\n",
    "def lines(filename):\n",
    "    with open(filename) as fh:\n",
    "        for line in fh:\n",
    "            if line.startswith('#'):\n",
    "                continue\n",
    "            else:\n",
    "                yield parse(line)\n",
    "\n",
    "# parse all the VCF file data into a ordered dictiorany including each INFO and FORMAT in key:pair\n",
    "def parse(line):\n",
    "    result = OrderedDict()\n",
    "    fields = line.rstrip().split('\\t')\n",
    "\n",
    "    for i, col in enumerate(VCF_HEADER[:7]):\n",
    "        result[col] = get_value(fields[i])\n",
    "\n",
    "    infos = fields[7].split(';')\n",
    "\n",
    "    for i, info in enumerate(infos, 1):\n",
    "        try:\n",
    "            key, value = info.split('=')\n",
    "        except ValueError:\n",
    "            key = 'INFO{}'.format(i)\n",
    "            value = info\n",
    "        result[key] = get_value(value)\n",
    "        \n",
    "    formats_key = fields[8].split(':')\n",
    "    formats_value = fields[9].split(':')\n",
    "    \n",
    "    for i in range(len(formats_key)):\n",
    "        result[formats_key[i]] = get_value(formats_value[i])\n",
    "\n",
    "    return result\n",
    "\n",
    "# if value is not present return NULL\n",
    "def get_value(value):\n",
    "    if not value or value in ['', '.', 'NA']:\n",
    "        return None\n",
    "    if ',' in value:\n",
    "        return value.split(',')\n",
    "    return value\n",
    "\n",
    "# for getting\n",
    "def without_keys(d, keys):\n",
    "    return {x: d[x] for x in d if x not in keys}"
   ]
  },
  {
   "cell_type": "code",
   "execution_count": 2,
   "metadata": {
    "scrolled": false
   },
   "outputs": [],
   "source": [
    "# Combine the VCF data\n",
    "new_vcf_list = []\n",
    "for fb in lines('freebayes_raw.vcf'):\n",
    "    for vs in lines('varscan_raw.vcf'):\n",
    "        \n",
    "        if fb['CHROM'] == vs['CHROM'] and fb['POS'] == vs['POS']:\n",
    "            \n",
    "            # Get common headers only from INFO and FORMAT tag\n",
    "            common_header_temp = set(fb.keys()).intersection(vs.keys())\n",
    "            common_header = common_header_temp.symmetric_difference(VCF_HEADER[:7])\n",
    "            # replace those common headers\n",
    "            for header in common_header:\n",
    "                fb[\"freebayes_\" + header] = fb.pop(header)\n",
    "                vs[\"varscan_\" + header] = vs.pop(header)\n",
    "            # keep only diffrent filds from other vcf\n",
    "            new_vs = without_keys(vs, VCF_HEADER[:7])\n",
    "            \n",
    "            # merge\n",
    "            new_vcf = OrderedDict(list(fb.items()) + list(new_vs.items()) + list({'TOOL': 'both'}.items()))\n",
    "            new_vcf_list.append(new_vcf)\n",
    "            break"
   ]
  },
  {
   "cell_type": "code",
   "execution_count": 3,
   "metadata": {},
   "outputs": [
    {
     "name": "stdout",
     "output_type": "stream",
     "text": [
      "OrderedDict([('CHROM', 'chr2'), ('POS', '29415792'), ('ID', None), ('REF', 'G'), ('ALT', 'A'), ('QUAL', '1101.66'), ('FILTER', None), ('AB', '0.494737'), ('ABP', '3.03316'), ('AC', '1'), ('AF', '0.5'), ('AN', '2'), ('AO', '47'), ('CIGAR', '1X'), ('DPB', '95'), ('DPRA', '0'), ('EPP', '27.4509'), ('EPPR', '33.5919'), ('GTI', '0'), ('LEN', '1'), ('MEANALT', '1'), ('MQM', '60'), ('MQMR', '60'), ('NS', '1'), ('NUMALT', '1'), ('ODDS', '231.64'), ('PAIRED', '0.978723'), ('PAIREDR', '0.979167'), ('PAO', '0'), ('PQA', '0'), ('PQR', '0'), ('PRO', '0'), ('QA', '1807'), ('QR', '1719'), ('RO', '48'), ('RPL', '12'), ('RPP', '27.4509'), ('RPPR', '33.5919'), ('RPR', '35'), ('RUN', '1'), ('SAF', '47'), ('SAP', '105.07'), ('SAR', '0'), ('SRF', '48'), ('SRP', '107.241'), ('SRR', '0'), ('TYPE', 'snp'), ('DPR', ['95', '47']), ('GL', ['-134.266', '0', '-126.33']), ('freebayes_DP', '95'), ('freebayes_GT', '0/1'), ('ADP', '89'), ('WT', '0'), ('HET', '1'), ('HOM', '0'), ('NC', '0'), ('GQ', '163'), ('SDP', '93'), ('RD', '45'), ('AD', '44'), ('FREQ', '49.44%'), ('PVAL', '4.4109E-17'), ('RBQ', '37'), ('ABQ', '18'), ('RDF', '45'), ('RDR', '0'), ('ADF', '44'), ('ADR', '0'), ('varscan_DP', '89'), ('varscan_GT', '0/1'), ('TOOL', 'both')])\n"
     ]
    }
   ],
   "source": [
    "# Overview of each dictionary after merge\n",
    "print(new_vcf_list[0])"
   ]
  },
  {
   "cell_type": "code",
   "execution_count": 4,
   "metadata": {},
   "outputs": [],
   "source": [
    "# Export into a CSV file\n",
    "import csv\n",
    "keys = new_vcf_list[0].keys()\n",
    "with open('merged_VCF.csv', 'w') as outfile:\n",
    "    fp = csv.DictWriter(outfile, keys)\n",
    "    fp.writeheader()\n",
    "    fp.writerows(new_vcf_list)"
   ]
  },
  {
   "cell_type": "code",
   "execution_count": null,
   "metadata": {},
   "outputs": [],
   "source": []
  }
 ],
 "metadata": {
  "kernelspec": {
   "display_name": "Python 3",
   "language": "python",
   "name": "python3"
  },
  "language_info": {
   "codemirror_mode": {
    "name": "ipython",
    "version": 3
   },
   "file_extension": ".py",
   "mimetype": "text/x-python",
   "name": "python",
   "nbconvert_exporter": "python",
   "pygments_lexer": "ipython3",
   "version": "3.7.5"
  }
 },
 "nbformat": 4,
 "nbformat_minor": 4
}
